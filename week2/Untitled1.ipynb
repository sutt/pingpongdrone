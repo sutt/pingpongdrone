{
 "cells": [
  {
   "cell_type": "code",
   "execution_count": 11,
   "metadata": {
    "collapsed": false
   },
   "outputs": [
    {
     "data": {
      "text/plain": [
       "'c:\\\\Users\\\\William\\\\desktop\\\\drone\\\\week2'"
      ]
     },
     "execution_count": 11,
     "metadata": {},
     "output_type": "execute_result"
    }
   ],
   "source": [
    "import os\n",
    "os.getcwd()"
   ]
  },
  {
   "cell_type": "code",
   "execution_count": 12,
   "metadata": {
    "collapsed": false
   },
   "outputs": [],
   "source": [
    "f = file(\"serialOut1.txt\")"
   ]
  },
  {
   "cell_type": "code",
   "execution_count": 13,
   "metadata": {
    "collapsed": true
   },
   "outputs": [],
   "source": [
    "lines = f.readlines()"
   ]
  },
  {
   "cell_type": "code",
   "execution_count": 15,
   "metadata": {
    "collapsed": false
   },
   "outputs": [
    {
     "data": {
      "text/plain": [
       "['501\\n', '500\\n', '501\\n']"
      ]
     },
     "execution_count": 15,
     "metadata": {},
     "output_type": "execute_result"
    }
   ],
   "source": [
    "lines[:3]"
   ]
  },
  {
   "cell_type": "code",
   "execution_count": null,
   "metadata": {
    "collapsed": true
   },
   "outputs": [],
   "source": []
  },
  {
   "cell_type": "code",
   "execution_count": null,
   "metadata": {
    "collapsed": true
   },
   "outputs": [],
   "source": [
    "polHz = 60\n",
    "\n",
    "def actuateMotor(accel):\n",
    "    \n",
    "    entryTime = time.time()\n",
    "    \n",
    "    actuateInterval = 1.0 / float(pollHz)\n",
    "    \n",
    "    accelPeriod = 1.0 / float(1+(8*accell))  # 0-500 -> 1->\n",
    "    \n",
    "    intervalSteps = int(actuateInterval / accelPeriod)\n",
    "    modInterval =  actuateInterval % accelPeriod \n",
    "    \n",
    "    if accel > 0:\n",
    "        gMotor.up(steps = intervalSteps, secs = accelPeriod)\n",
    "        time.sleep(modInterval)\n",
    "    elif accel < 0:\n",
    "        gMotor.down(steps = intervalSteps, secs = accelPeriod)\n",
    "        time.sleep(modInterval)\n",
    "    elif accel == 0:\n",
    "        time.sleep(actuateInterval)\n",
    "        \n",
    "    return time.time() - entryTime\n",
    "        "
   ]
  },
  {
   "cell_type": "code",
   "execution_count": 20,
   "metadata": {
    "collapsed": true
   },
   "outputs": [],
   "source": [
    "t1 = .00025"
   ]
  },
  {
   "cell_type": "code",
   "execution_count": 21,
   "metadata": {
    "collapsed": false
   },
   "outputs": [
    {
     "data": {
      "text/plain": [
       "4000.0"
      ]
     },
     "execution_count": 21,
     "metadata": {},
     "output_type": "execute_result"
    }
   ],
   "source": [
    "1.0 / t1"
   ]
  },
  {
   "cell_type": "code",
   "execution_count": 22,
   "metadata": {
    "collapsed": true
   },
   "outputs": [],
   "source": [
    "from matplotlib import pyplot as plt"
   ]
  },
  {
   "cell_type": "code",
   "execution_count": 23,
   "metadata": {
    "collapsed": true
   },
   "outputs": [],
   "source": [
    "%matplotlib inline"
   ]
  },
  {
   "cell_type": "code",
   "execution_count": 36,
   "metadata": {
    "collapsed": false
   },
   "outputs": [],
   "source": [
    "def faccel(x):\n",
    "    return 1.0 / (1.0 + (8.0 * float(x)))\n",
    "x1 = [i for i in range(500)]\n",
    "y1 = map(faccel,x)"
   ]
  },
  {
   "cell_type": "code",
   "execution_count": 39,
   "metadata": {
    "collapsed": false,
    "scrolled": false
   },
   "outputs": [
    {
     "data": {
      "text/plain": [
       "[<matplotlib.lines.Line2D at 0x7699668>]"
      ]
     },
     "execution_count": 39,
     "metadata": {},
     "output_type": "execute_result"
    },
    {
     "data": {
      "image/png": "[encoded data removed]",
      "text/plain": [
       "<matplotlib.figure.Figure at 0x73d9358>"
      ]
     },
     "metadata": {},
     "output_type": "display_data"
    }
   ],
   "source": [
    "plt.plot(y1[100:])"
   ]
  },
  {
   "cell_type": "code",
   "execution_count": 18,
   "metadata": {
    "collapsed": true
   },
   "outputs": [],
   "source": [
    "def setAccel(line):\n",
    "    \n",
    "    \"\"\"if poll returns an unreadable line, return the \n",
    "    accel of previuos succesful poll\"\"\"\n",
    "    global gPos\n",
    "    \n",
    "    try:\n",
    "        iPos = int(line)\n",
    "    except:\n",
    "        iPos = gPos\n",
    "    \n",
    "    gPos = iPos\n",
    "    \n",
    "    if abs(iPos - 500) > 10:\n",
    "        accel = iPos - 500\n",
    "    else:\n",
    "        accel = 0\n",
    "    \n",
    "    return accel"
   ]
  },
  {
   "cell_type": "code",
   "execution_count": null,
   "metadata": {
    "collapsed": true
   },
   "outputs": [],
   "source": []
  }
 ],
 "metadata": {
  "kernelspec": {
   "display_name": "Python 2",
   "language": "python",
   "name": "python2"
  },
  "language_info": {
   "codemirror_mode": {
    "name": "ipython",
    "version": 2
   },
   "file_extension": ".py",
   "mimetype": "text/x-python",
   "name": "python",
   "nbconvert_exporter": "python",
   "pygments_lexer": "ipython2",
   "version": "2.7.10"
  }
 },
 "nbformat": 4,
 "nbformat_minor": 0
}
