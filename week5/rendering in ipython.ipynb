{
 "cells": [
  {
   "cell_type": "code",
   "execution_count": 48,
   "metadata": {
    "collapsed": true
   },
   "outputs": [],
   "source": [
    "import gym"
   ]
  },
  {
   "cell_type": "code",
   "execution_count": 49,
   "metadata": {
    "collapsed": false
   },
   "outputs": [
    {
     "name": "stderr",
     "output_type": "stream",
     "text": [
      "INFO:gym.envs.registration:Making new env: CartPole-v0\n",
      "[2016-05-18 23:49:16,698] Making new env: CartPole-v0\n"
     ]
    }
   ],
   "source": [
    "env = gym.make(\"CartPole-v0\")"
   ]
  },
  {
   "cell_type": "code",
   "execution_count": 50,
   "metadata": {
    "collapsed": true
   },
   "outputs": [],
   "source": [
    "from matplotlib import pyplot as plt"
   ]
  },
  {
   "cell_type": "code",
   "execution_count": 54,
   "metadata": {
    "collapsed": false
   },
   "outputs": [],
   "source": [
    "%matplotlib inline"
   ]
  },
  {
   "cell_type": "code",
   "execution_count": 55,
   "metadata": {
    "collapsed": false
   },
   "outputs": [
    {
     "data": {
      "text/plain": [
       "<matplotlib.image.AxesImage at 0xafd1208>"
      ]
     },
     "execution_count": 55,
     "metadata": {},
     "output_type": "execute_result"
    },
    {
     "data": {
      "image/png": "[encoded data removed]",
      "text/plain": [
       "<matplotlib.figure.Figure at 0xa923978>"
      ]
     },
     "metadata": {},
     "output_type": "display_data"
    }
   ],
   "source": [
    "plt.imshow(env.render(mode='rgb_array'))"
   ]
  },
  {
   "cell_type": "code",
   "execution_count": null,
   "metadata": {
    "collapsed": true
   },
   "outputs": [],
   "source": []
  },
  {
   "cell_type": "code",
   "execution_count": null,
   "metadata": {
    "collapsed": true
   },
   "outputs": [],
   "source": []
  },
  {
   "cell_type": "code",
   "execution_count": null,
   "metadata": {
    "collapsed": true
   },
   "outputs": [],
   "source": []
  },
  {
   "cell_type": "code",
   "execution_count": 40,
   "metadata": {
    "collapsed": false
   },
   "outputs": [],
   "source": [
    "w = env.viewer.window"
   ]
  },
  {
   "cell_type": "code",
   "execution_count": 46,
   "metadata": {
    "collapsed": false
   },
   "outputs": [
    {
     "data": {
      "text/plain": [
       "(600, 400)"
      ]
     },
     "execution_count": 46,
     "metadata": {},
     "output_type": "execute_result"
    }
   ],
   "source": [
    "env.viewer.window.get_size()"
   ]
  },
  {
   "cell_type": "code",
   "execution_count": 47,
   "metadata": {
    "collapsed": false
   },
   "outputs": [
    {
     "ename": "AttributeError",
     "evalue": "'NoneType' object has no attribute 'set_current'",
     "output_type": "error",
     "traceback": [
      "\u001b[1;31m---------------------------------------------------------------------------\u001b[0m",
      "\u001b[1;31mAttributeError\u001b[0m                            Traceback (most recent call last)",
      "\u001b[1;32m<ipython-input-47-b1ec95f79a11>\u001b[0m in \u001b[0;36m<module>\u001b[1;34m()\u001b[0m\n\u001b[1;32m----> 1\u001b[1;33m \u001b[0menv\u001b[0m\u001b[1;33m.\u001b[0m\u001b[0mviewer\u001b[0m\u001b[1;33m.\u001b[0m\u001b[0mwindow\u001b[0m\u001b[1;33m.\u001b[0m\u001b[0mswitch_to\u001b[0m\u001b[1;33m(\u001b[0m\u001b[1;33m)\u001b[0m\u001b[1;33m\u001b[0m\u001b[0m\n\u001b[0m",
      "\u001b[1;32mC:\\Python27\\lib\\site-packages\\pyglet\\window\\win32\\__init__.pyc\u001b[0m in \u001b[0;36mswitch_to\u001b[1;34m(self)\u001b[0m\n\u001b[0;32m    305\u001b[0m \u001b[1;33m\u001b[0m\u001b[0m\n\u001b[0;32m    306\u001b[0m     \u001b[1;32mdef\u001b[0m \u001b[0mswitch_to\u001b[0m\u001b[1;33m(\u001b[0m\u001b[0mself\u001b[0m\u001b[1;33m)\u001b[0m\u001b[1;33m:\u001b[0m\u001b[1;33m\u001b[0m\u001b[0m\n\u001b[1;32m--> 307\u001b[1;33m         \u001b[0mself\u001b[0m\u001b[1;33m.\u001b[0m\u001b[0mcontext\u001b[0m\u001b[1;33m.\u001b[0m\u001b[0mset_current\u001b[0m\u001b[1;33m(\u001b[0m\u001b[1;33m)\u001b[0m\u001b[1;33m\u001b[0m\u001b[0m\n\u001b[0m\u001b[0;32m    308\u001b[0m \u001b[1;33m\u001b[0m\u001b[0m\n\u001b[0;32m    309\u001b[0m     \u001b[1;32mdef\u001b[0m \u001b[0mflip\u001b[0m\u001b[1;33m(\u001b[0m\u001b[0mself\u001b[0m\u001b[1;33m)\u001b[0m\u001b[1;33m:\u001b[0m\u001b[1;33m\u001b[0m\u001b[0m\n",
      "\u001b[1;31mAttributeError\u001b[0m: 'NoneType' object has no attribute 'set_current'"
     ]
    }
   ],
   "source": [
    "env.viewer.window.switch_to()"
   ]
  },
  {
   "cell_type": "code",
   "execution_count": 39,
   "metadata": {
    "collapsed": false
   },
   "outputs": [
    {
     "name": "stdout",
     "output_type": "stream",
     "text": [
      "(0.025592105183791368, 0.1709448406894547, -0.0090893955620213983, -0.33520197170150939)\n",
      "(-0.023801610899635946, 0.18355979459614452, 0.032898298200641982, -0.25165174868406559)\n",
      "(-0.020130415007713055, 0.37819690040317971, 0.02786526322696067, -0.53377907504425959)\n",
      "(-0.01256647699964946, 0.57291611440610568, 0.017189681726075476, -0.81755318050660364)\n",
      "(-0.0011081547115273458, 0.76779858456508354, 0.00083861811594340349, -1.1047801806047872)\n",
      "(0.014247816979774326, 0.96290949734006581, -0.021256985496152341, -1.3971998931568264)\n",
      "(0.033506006926575641, 1.158289272145222, -0.049200983359288866, -1.6964524278053705)\n",
      "(0.056671792369480084, 1.3539429829929532, -0.08313003191539628, -2.0040370999160038)\n",
      "(0.083750652029339151, 1.5498274878880935, -0.12321077391371635, -2.3212612715342211)"
     ]
    },
    {
     "name": "stderr",
     "output_type": "stream",
     "text": [
      "WARNING:gym.envs.classic_control.cartpole:You are calling 'step()' even though this environment has already returned done = True. You should always call 'reset()' once you receive 'done = True' -- any further steps are undefined behavior.\n",
      "[2016-05-18 23:43:57,621] You are calling 'step()' even though this environment has already returned done = True. You should always call 'reset()' once you receive 'done = True' -- any further steps are undefined behavior.\n"
     ]
    },
    {
     "name": "stdout",
     "output_type": "stream",
     "text": [
      "\n",
      "(0.11474720178710102, 1.7458359457542745, -0.16963599934440077, -2.6491774773548205)\n",
      "(0.14966392070218651, 1.9417797571656761, -0.22261954889149718, -2.988508545573632)\n",
      "(0.18849951584550004, 2.1373685501414674, -0.28238971980296984, -3.3395626263873179)\n",
      "(0.23124688684832939, 2.3321897065160355, -0.34918097233071621, -3.7021432729574859)\n",
      "(0.27789068097865011, 2.5256900998338643, -0.42322383778986594, -4.0754639065625522)\n",
      "(0.32840448297532737, 2.7171640965014867, -0.50473311592111703, -4.4580805552735425)\n",
      "(0.38274776490535711, 2.9057531884092103, -0.59389472702658785, -4.8478603243942553)\n",
      "(0.44086282867354132, 3.0904634003587828, -0.69085193351447294, -5.2420034236529283)\n",
      "(0.502672096680717, 3.270206230976699, -0.79569200198753154, -5.6371310890042148)\n",
      "(0.56807622130025104, 3.4438668102811358, -0.90843462376761586, -6.0294384728977164)\n",
      "(0.63695355750587379, 3.6103991208632178, -1.0290233932255701, -6.4148911068715604)\n",
      "(0.70916153992313813, 3.7689432608554312, -1.1573212153630013, -6.7894203918218885)\n",
      "(0.7845404051402467, 3.9189553220215023, -1.293109623199439, -7.1490559559705806)\n",
      "(0.8629195115806767, 4.0603381308313846, -1.4360907423188507, -7.4899297163180583)\n",
      "(0.94412627419730444, 4.193561472493661, -1.5858893366452118, -7.8081039010589564)\n",
      "(1.0279975036471776, 4.3197621814048572, -1.742051414666391, -8.099213400909143)\n",
      "(1.1143927472752746, 4.4408144379349439, -1.9040356826845739, -8.3579682215244695)\n",
      "(1.2032090360339736, 4.5593550081219654, -2.0711950471150633, -8.5776316245019846)\n",
      "(1.2943961361964129, 4.6787352314049038, -2.2427476796051029, -8.7496711336750952)\n",
      "(1.3879708408245111, 4.8028551290859891, -2.4177411022786046, -8.8638583867998779)\n",
      "(1.4840279434062309, 4.9358285177204895, -2.5950182700146023, -8.9091197896295284)\n",
      "(1.5827445137606406, 5.0814549527556787, -2.773200665807193, -8.8753151420650536)\n",
      "(0.013353057206660017, 0.2379712549917456, 0.042428546964272625, -0.28041334795312151)\n",
      "(0.018112482306494929, 0.43246309941725419, 0.036820280005210197, -0.55941831293320332)\n",
      "(0.026761744294840014, 0.62704941612031573, 0.02563191374654613, -0.8402772385366557)\n",
      "(0.03930273261724633, 0.82181222290358957, 0.0088263689758130148, -1.1247905278160069)\n",
      "(0.055738977075318122, 1.0168173802939868, -0.013669441580507122, -1.4146919513129828)\n",
      "(0.076075324681197862, 1.2121059877304647, -0.041963280606766781, -1.7116161857752712)\n",
      "(0.10031744443580716, 1.4076839593682333, -0.076195604322272209, -2.0170584677320682)\n",
      "(0.12847112362317181, 1.6035092642024864, -0.11653677367691358, -2.3323239875468578)"
     ]
    },
    {
     "name": "stderr",
     "output_type": "stream",
     "text": [
      "WARNING:gym.envs.classic_control.cartpole:You are calling 'step()' even though this environment has already returned done = True. You should always call 'reset()' once you receive 'done = True' -- any further steps are undefined behavior.\n",
      "[2016-05-18 23:43:58,130] You are calling 'step()' even though this environment has already returned done = True. You should always call 'reset()' once you receive 'done = True' -- any further steps are undefined behavior.\n"
     ]
    },
    {
     "name": "stdout",
     "output_type": "stream",
     "text": [
      "\n",
      "(0.16054130890722154, 1.7994765076447121, -0.16318325342785073, -2.6584653773692937)\n",
      "(0.19653083906011579, 1.99539888073065, -0.21635256097523659, -2.9962079694433377)\n",
      "(0.2364388166747288, 2.1909880808904543, -0.27627672036410333, -3.3458646780981587)\n",
      "(0.28025857829253786, 2.3858336772371858, -0.34319401392606652, -3.7072455760153873)\n",
      "(0.3279752518372816, 2.5793845685838637, -0.4173389254463743, -4.0795714323512557)\n",
      "(0.37956294320895889, 2.7709365721740653, -0.49893035409339942, -4.461405090225794)\n",
      "(0.4349816746524402, 2.9596315196864444, -0.58815845589791527, -4.8506182390445369)\n",
      "(0.4941743050461691, 3.144474048320808, -0.68517082067880597, -5.2444116676995733)\n",
      "(0.55706378601258533, 3.3243719343179947, -0.79005905403279741, -5.639401780482558)\n",
      "(0.62355122469894519, 3.4982037776618875, -0.90284708964244853, -6.0317730167774526)\n",
      "(0.693515300252183, 3.6649140182591879, -1.0234825499779976, -6.417475304782057)\n",
      "(0.76681358061736682, 3.8236303567419507, -1.1518320560736388, -6.7924222503762612)\n",
      "(0.84328618775220587, 3.9737941680619042, -1.2876805010811641, -7.1526276482631514)\n",
      "(0.92276207111344399, 4.1152920836628919, -1.4307330540464271, -7.4942143255145925)\n",
      "(1.0050679127867019, 4.2485772511688893, -1.580617340556719, -7.8132462992806291)\n",
      "(1.0900394578100796, 4.3747705961877523, -1.7368822665423316, -8.1053731309220236)\n",
      "(1.1775348697338346, 4.4957325079272268, -1.898989729160772, -8.3653307598906324)\n",
      "(1.2674495198923792, 4.6140899283551002, -2.0662963443585847, -8.5864130454884648)\n",
      "(1.3597313184594813, 4.7331909392302274, -2.2380246052683539, -8.7601102609192054)\n",
      "(1.4543951372440858, 4.8569422468907613, -2.413226810486738, -8.876190959230998)\n",
      "(1.551533982181901, 4.9894777330355602, -2.5907506296713581, -8.9235328277882093)\n",
      "(1.6513235368426122, 5.134632052381618, -2.7692212862271224, -8.8918883329539415)\n",
      "(0.044313017734069156, 0.16697099905071369, -0.0079958042162012622, -0.30236141187101073)\n",
      "(0.047652437715083429, 0.36220599046442448, -0.014043032453621478, -0.59755527898034888)\n",
      "(0.054896557524371919, 0.5575216027550709, -0.025994138033228455, -0.89462832556471727)\n",
      "(0.066046989579473331, 0.75298622328720288, -0.0438867045445228, -1.195367622028481)\n",
      "(0.081106714045217382, 0.94864804857325791, -0.067794056985092416, -1.5014763152056965)\n",
      "(0.10007967501668254, 1.1445245229060423, -0.097823583289206345, -1.814532282695134)\n",
      "(0.12297016547480338, 1.3405898958718221, -0.13411422894310904, -2.1359385707388774)\n",
      "(0.14978196339223981, 1.5367604766705694, -0.17683300035788657, -2.4668635596032562)\n",
      "(0.1805171729256512, 1.7328774743934698, -0.2261702715499517, -2.8081699857051952)"
     ]
    },
    {
     "name": "stderr",
     "output_type": "stream",
     "text": [
      "WARNING:gym.envs.classic_control.cartpole:You are calling 'step()' even though this environment has already returned done = True. You should always call 'reset()' once you receive 'done = True' -- any further steps are undefined behavior.\n",
      "[2016-05-18 23:43:58,618] You are calling 'step()' even though this environment has already returned done = True. You should always call 'reset()' once you receive 'done = True' -- any further steps are undefined behavior.\n"
     ]
    },
    {
     "name": "stdout",
     "output_type": "stream",
     "text": [
      "\n",
      "(0.21517472241352059, 1.9286878235506688, -0.28233367126405562, -3.160333876669088)\n",
      "(0.25374847888453395, 2.1238241656215657, -0.34554034879743739, -3.5233573213926213)\n",
      "(0.29622496219696526, 2.3177862180326665, -0.41600749522528979, -3.8966828128955493)\n",
      "(0.34258068655761859, 2.5099270541159884, -0.49394115148320078, -4.2791212666798994)\n",
      "(0.39277922763993833, 2.6994491355367667, -0.57952357681679878, -4.6688096609048353)\n",
      "(0.44676821035067366, 2.8854158836881019, -0.67289977003489554, -5.0632156814435998)\n",
      "(0.50447652802443566, 3.0667845863417806, -0.77416408366376754, -5.4592033181610198)\n",
      "(0.56581221975127127, 3.242464953018819, -0.88334815002698797, -5.8531628890670833)\n",
      "(0.63066151881164767, 3.4114044254053888, -1.0004114078083297, -6.2411911602706134)\n",
      "(0.69888960731975547, 3.5726968638031353, -1.1252352310137419, -6.6192852078569455)\n",
      "(0.77034354459581822, 3.7257066963507506, -1.2576209351708809, -6.9834943471527362)\n",
      "(0.84485767852283322, 3.8701976181756974, -1.3972908221139357, -7.3299666022217824)\n",
      "(0.92226163088634716, 4.0064544410882927, -1.5438901541583714, -7.6548366866600608)\n",
      "(1.002390719708113, 4.1353880892624826, -1.6969868878915726, -7.9539333122459981)\n",
      "(1.0850984814933626, 4.2586144657554712, -1.8560655541364925, -8.2223324275547256)\n",
      "(1.1702707708084721, 4.3784943998859394, -2.0205122026875872, -8.4538465259648223)\n",
      "(1.2578406588061908, 4.4981115994982863, -2.1895891332068835, -8.6406161656642393)\n",
      "(1.3478028907961566, 4.6211501467915355, -2.3624014565201685, -8.7730493002322714)\n",
      "(1.4402258937319872, 4.7516223295146212, -2.5378624425248137, -8.8404013973912665)\n",
      "(1.5352583403222795, 4.8934113799376391, -2.714670470472639, -8.8322241105350674)\n",
      "(1.6331265679210323, 5.0496546849060806, -2.8913149526833402, -8.7406316317973634)\n",
      "(0.028609280844281309, 0.2263057165603341, 0.040376672724680374, -0.24565186246546761)\n",
      "(0.03313539517548799, 0.42082842109482499, 0.035463635475371021, -0.52533059073566402)\n",
      "(0.041551963597384486, 0.61543384350251851, 0.024957023660657739, -0.80663105812293878)\n",
      "(0.053860640467434856, 0.81020498898264626, 0.0088244024981989633, -1.0913601924203638)\n",
      "(0.070064740247087781, 1.0052095348257941, -0.013002801350208312, -1.3812612818304681)\n",
      "(0.090168930943603662, 1.2004913264267307, -0.040628026986817674, -1.6779819228202626)\n",
      "(0.11417875747213828, 1.3960601221287492, -0.074187665443222917, -1.9830343940808415)\n",
      "(0.14209995991471325, 1.591879057347573, -0.11384835332483975, -2.297746026677987)\n",
      "(0.1739375410616647, 1.7878494805357299, -0.15980327385839949, -2.6231978293674811)\n"
     ]
    }
   ],
   "source": [
    "env.reset()\n",
    "for i in range(100):\n",
    "    env.step(1)\n",
    "    print str(env.state)\n",
    "    env.render(close=False)\n",
    "    #time.sleep(.01)\n",
    "    if i % 30 == 0:\n",
    "        env.reset()\n",
    "env.viewer.window.clear()\n",
    "\n",
    "#env.render(close=True)"
   ]
  },
  {
   "cell_type": "code",
   "execution_count": null,
   "metadata": {
    "collapsed": true
   },
   "outputs": [],
   "source": []
  }
 ],
 "metadata": {
  "kernelspec": {
   "display_name": "Python 2",
   "language": "python",
   "name": "python2"
  },
  "language_info": {
   "codemirror_mode": {
    "name": "ipython",
    "version": 2
   },
   "file_extension": ".py",
   "mimetype": "text/x-python",
   "name": "python",
   "nbconvert_exporter": "python",
   "pygments_lexer": "ipython2",
   "version": "2.7.10"
  }
 },
 "nbformat": 4,
 "nbformat_minor": 0
}
